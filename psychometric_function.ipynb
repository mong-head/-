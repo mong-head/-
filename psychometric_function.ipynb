{
  "nbformat": 4,
  "nbformat_minor": 0,
  "metadata": {
    "colab": {
      "name": "psychometric_function.ipynb",
      "provenance": [],
      "collapsed_sections": [],
      "authorship_tag": "ABX9TyPPKRgHiwTIO8LKuKyr7xxK",
      "include_colab_link": true
    },
    "kernelspec": {
      "name": "python3",
      "display_name": "Python 3"
    }
  },
  "cells": [
    {
      "cell_type": "markdown",
      "metadata": {
        "id": "view-in-github",
        "colab_type": "text"
      },
      "source": [
        "<a href=\"https://colab.research.google.com/github/mong-head/sensation_and_perception/blob/master/psychometric_function.ipynb\" target=\"_parent\"><img src=\"https://colab.research.google.com/assets/colab-badge.svg\" alt=\"Open In Colab\"/></a>"
      ]
    },
    {
      "cell_type": "code",
      "metadata": {
        "id": "m3tYSgZXwm1U",
        "colab_type": "code",
        "colab": {
          "base_uri": "https://localhost:8080/",
          "height": 52
        },
        "outputId": "10297d20-a98a-47fe-e83e-62d48730d77b"
      },
      "source": [
        "!git clone https://github.com/mong-head/sensation_and_perception.git"
      ],
      "execution_count": 11,
      "outputs": [
        {
          "output_type": "stream",
          "text": [
            "Cloning into 'sensation_and_perception'...\n",
            "warning: You appear to have cloned an empty repository.\n"
          ],
          "name": "stdout"
        }
      ]
    },
    {
      "cell_type": "code",
      "metadata": {
        "id": "NJXbmG5ytM3R",
        "colab_type": "code",
        "colab": {
          "base_uri": "https://localhost:8080/",
          "height": 125
        },
        "outputId": "821e2905-2c75-431d-ec9f-232eb3404c11"
      },
      "source": [
        "from google.colab import drive\n",
        "drive.mount('/content/drive')"
      ],
      "execution_count": 1,
      "outputs": [
        {
          "output_type": "stream",
          "text": [
            "Go to this URL in a browser: https://accounts.google.com/o/oauth2/auth?client_id=947318989803-6bn6qk8qdgf4n4g3pfee6491hc0brc4i.apps.googleusercontent.com&redirect_uri=urn%3aietf%3awg%3aoauth%3a2.0%3aoob&response_type=code&scope=email%20https%3a%2f%2fwww.googleapis.com%2fauth%2fdocs.test%20https%3a%2f%2fwww.googleapis.com%2fauth%2fdrive%20https%3a%2f%2fwww.googleapis.com%2fauth%2fdrive.photos.readonly%20https%3a%2f%2fwww.googleapis.com%2fauth%2fpeopleapi.readonly\n",
            "\n",
            "Enter your authorization code:\n",
            "··········\n",
            "Mounted at /content/drive\n"
          ],
          "name": "stdout"
        }
      ]
    },
    {
      "cell_type": "code",
      "metadata": {
        "id": "AdAWJD9QtYDh",
        "colab_type": "code",
        "colab": {}
      },
      "source": [
        "# Python ≥3.5 is required\n",
        "import sys\n",
        "assert sys.version_info >= (3, 5)\n",
        "\n",
        "# Scikit-Learn ≥0.20 is required\n",
        "import sklearn\n",
        "assert sklearn.__version__ >= \"0.20\"\n",
        "\n",
        "%matplotlib inline\n",
        "import matplotlib as mpl\n",
        "\n",
        "import matplotlib.pyplot as plt\n",
        "import numpy as np\n",
        "import pandas as pd\n",
        "import sklearn.linear_model\n",
        "from sklearn.linear_model import LogisticRegression\n",
        "\n",
        "from pandas import Series, DataFrame\n",
        "from sklearn.model_selection import cross_val_score"
      ],
      "execution_count": 0,
      "outputs": []
    },
    {
      "cell_type": "code",
      "metadata": {
        "id": "J7UwN29etkv2",
        "colab_type": "code",
        "colab": {}
      },
      "source": [
        "def session_graph(session):\n",
        "  csv_file = '/content/drive/My Drive/Colab Notebooks/session'+str(session)+'.csv'\n",
        "  x = pd.read_csv(csv_file)\n",
        "  y = pd.read_csv(csv_file)\n",
        "  X = x.drop(\"label\",axis=1)\n",
        "  Y = y.drop(\"px\",axis=1)\n",
        "\n",
        "  softmax_reg = LogisticRegression(solver = 'liblinear', C=1000000000000, random_state=42)\n",
        "  X_ = X.values.reshape(-1,1)\n",
        "  softmax_reg.fit(X_,Y.values.ravel())\n",
        "  softmax_val = cross_val_score(softmax_reg,X_,Y.values.ravel(), cv=10, scoring=\"accuracy\").mean()\n",
        "\n",
        "  prob = []\n",
        "  for i in X_:\n",
        "    p_loss, p_win = softmax_reg.predict_proba([i])[0]\n",
        "    prob.append(p_win)\n",
        "\n",
        "  #pse\n",
        "  myrange = np.linspace(450,490,100000)\n",
        "  for absolute_threshold in myrange:\n",
        "    p = softmax_reg.predict_proba([[absolute_threshold]])\n",
        "    if p[0][1] < 0.50001 and p[0][1] > 0.49999:\n",
        "      break\n",
        "\n",
        "  #jnd\n",
        "  myrange2 = np.linspace(470,530,100000)\n",
        "  for for_jnd in myrange2:\n",
        "    p = softmax_reg.predict_proba([[for_jnd]])\n",
        "    if p[0][1] < 0.75001 and p[0][1] > 0.74999:\n",
        "      break\n",
        "  jnd = for_jnd - absolute_threshold\n",
        "\n",
        "  X_result = []\n",
        "  y_result = []\n",
        "  for i in range(370,531,20):\n",
        "    for j in range(0,224):\n",
        "      if X.values[j][0] == i:\n",
        "        X_result.append(i)\n",
        "        y_result.append(prob[j])\n",
        "        break\n",
        "  print('<<Session ',session,'>>')\n",
        "  print('cross validation score(얼마나 믿을만한 그래프인지) : ',softmax_val)\n",
        "  plt.scatter(X_result,y_result)\n",
        "  plt.scatter(absolute_threshold,0.5,color=\"red\")\n",
        "  plt.scatter(for_jnd,0.75,color=\"red\")\n",
        "  plt.plot(X_result,y_result)\n",
        "  plt.show()\n",
        "  print('absolute threshold(50%) : ',absolute_threshold)\n",
        "  print('75%지점 : ',for_jnd)\n",
        "  print('jnd(difference threshold) : ',jnd)\n",
        "  print()\n",
        "  print()"
      ],
      "execution_count": 0,
      "outputs": []
    },
    {
      "cell_type": "code",
      "metadata": {
        "id": "g-1jNWwQtnGs",
        "colab_type": "code",
        "colab": {
          "base_uri": "https://localhost:8080/",
          "height": 1000
        },
        "outputId": "e95bb414-e8a6-4a81-ae03-ea737a8e50c0"
      },
      "source": [
        "session_graph(1)\n",
        "session_graph(2)\n",
        "session_graph(3)"
      ],
      "execution_count": 13,
      "outputs": [
        {
          "output_type": "stream",
          "text": [
            "<<Session  1 >>\n",
            "cross validation score(얼마나 믿을만한 그래프인지) :  0.8523715415019761\n"
          ],
          "name": "stdout"
        },
        {
          "output_type": "display_data",
          "data": {
            "image/png": "[encoded data removed]",
            "text/plain": [
              "<Figure size 432x288 with 1 Axes>"
            ]
          },
          "metadata": {
            "tags": [],
            "needs_background": "light"
          }
        },
        {
          "output_type": "stream",
          "text": [
            "absolute threshold(50%) :  462.1669216692167\n",
            "75%지점 :  490.06840068400686\n",
            "jnd(difference threshold) :  27.90147901479014\n",
            "\n",
            "\n",
            "<<Session  2 >>\n",
            "cross validation score(얼마나 믿을만한 그래프인지) :  0.8401185770750988\n"
          ],
          "name": "stdout"
        },
        {
          "output_type": "display_data",
          "data": {
            "image/png": "[encoded data removed]",
            "text/plain": [
              "<Figure size 432x288 with 1 Axes>"
            ]
          },
          "metadata": {
            "tags": [],
            "needs_background": "light"
          }
        },
        {
          "output_type": "stream",
          "text": [
            "absolute threshold(50%) :  468.7045870458705\n",
            "75%지점 :  488.61758617586173\n",
            "jnd(difference threshold) :  19.91299912999125\n",
            "\n",
            "\n",
            "<<Session  3 >>\n",
            "cross validation score(얼마나 믿을만한 그래프인지) :  0.683794466403162\n"
          ],
          "name": "stdout"
        },
        {
          "output_type": "display_data",
          "data": {
            "image/png": "[encoded data removed]",
            "text/plain": [
              "<Figure size 432x288 with 1 Axes>"
            ]
          },
          "metadata": {
            "tags": [],
            "needs_background": "light"
          }
        },
        {
          "output_type": "stream",
          "text": [
            "absolute threshold(50%) :  471.49221492214923\n",
            "75%지점 :  523.0189301893018\n",
            "jnd(difference threshold) :  51.52671526715261\n",
            "\n",
            "\n"
          ],
          "name": "stdout"
        }
      ]
    }
  ]
}